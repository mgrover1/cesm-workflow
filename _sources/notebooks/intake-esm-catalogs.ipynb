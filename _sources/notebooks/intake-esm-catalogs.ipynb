{
 "cells": [
  {
   "cell_type": "markdown",
   "metadata": {},
   "source": [
    "# Intake-esm Catalogs"
   ]
  },
  {
   "cell_type": "markdown",
   "metadata": {},
   "source": [
    "If you are not interested in running CESM yourself, you can use the data already stored on NCAR resources or through the cloud, by using pre-compiled [intake-esm catalogs](https://github.com/intake/intake-esm).\n",
    "\n",
    "This is a summary of the catalogs described on the [intake-esm page](https://intake-esm.readthedocs.io/en/latest/supplemental-guide/cmip_ap.html)\n",
    "\n",
    "## Catalogs using files on Glade file system\n",
    "* CESM2-CMIP6\n",
    "    * `/glade/collections/cmip/catalog/intake-esm-datastore/catalogs/campaign-cesm2-cmip6-timeseries.json`\n",
    "* CESM1-CMIP5\n",
    "    * `/glade/collections/cmip/catalog/intake-esm-datastore/catalogs/glade-cesm1-cmip5-timeseries.json`\n",
    "* CESM1-LE\n",
    "    * `/glade/collections/cmip/catalog/intake-esm-datastore/catalogs/glade-cesm1-le.json`\n",
    "* NA-CORDEX\n",
    "    * `/glade/collections/cmip/catalog/intake-esm-datastore/catalogs/glade-na-cordex.json`\n",
    "\n",
    "***Coming Soon - CESM2-LE***\n",
    "\n",
    "## Catalogs reading data from the cloud\n",
    "\n",
    "### Amazon\n",
    "* NA-CORDEX\n",
    "    * `/glade/collections/cmip/catalog/intake-esm-datastore/catalogs/aws-na-cordex.json`\n",
    "\n",
    "### Pangeo\n",
    "* CMIP6\n",
    "    * `/glade/collections/cmip/catalog/intake-esm-datastore/catalogs/pangeo-cmip6`\n",
    "\n",
    "### Stratus (NCAR Amazon-like object store)\n",
    "* CESM1-LE\n",
    "    * `/glade/collections/cmip/catalog/intake-esm-datastore/catalogs/stratus-cesm1-le.json`"
   ]
  }
 ],
 "metadata": {
  "kernelspec": {
   "display_name": "Python 3",
   "language": "python",
   "name": "python3"
  },
  "language_info": {
   "codemirror_mode": {
    "name": "ipython",
    "version": 3
   },
   "file_extension": ".py",
   "mimetype": "text/x-python",
   "name": "python",
   "nbconvert_exporter": "python",
   "pygments_lexer": "ipython3",
   "version": "3.8.5"
  }
 },
 "nbformat": 4,
 "nbformat_minor": 4
}
