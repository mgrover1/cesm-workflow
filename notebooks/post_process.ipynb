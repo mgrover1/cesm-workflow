{
 "cells": [
  {
   "cell_type": "markdown",
   "metadata": {},
   "source": [
    "# Post-processing\n",
    "\n",
    "## Convert to Time Series\n",
    "The native model output is in history files, which are quite large and can be difficult to deal with. In most cases, converting to timeseries is helpful/preferred.\n",
    "\n",
    "Once a more updated form of this workflow is generated, it will be posted here.\n",
    "\n",
    "## CMOR-ize the data\n",
    "CMOR stands for Climate Model Output Rewriter, which helps to make sure the data are CMIP6 compliant. This is an important step to processing the data.\n",
    "\n",
    "## Create an intake-esm catalog\n",
    "Currently, a more uniform way of generating catalogs from CESM model output is being explored in this repository named [ecgtools](https://github.com/andersy005/ecgtools)"
   ]
  }
 ],
 "metadata": {
  "kernelspec": {
   "display_name": "Python 3",
   "language": "python",
   "name": "python3"
  },
  "language_info": {
   "codemirror_mode": {
    "name": "ipython",
    "version": 3
   },
   "file_extension": ".py",
   "mimetype": "text/x-python",
   "name": "python",
   "nbconvert_exporter": "python",
   "pygments_lexer": "ipython3",
   "version": "3.8.5"
  }
 },
 "nbformat": 4,
 "nbformat_minor": 4
}
