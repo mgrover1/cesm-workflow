{
 "cells": [
  {
   "cell_type": "markdown",
   "metadata": {},
   "source": [
    "# Overview of this Book\n",
    "\n",
    "## Run CESM\n",
    "* Download CESM codebase\n",
    "* Create a case\n",
    "* (Modify a component - ex. MARBL)\n",
    "* Run case\n",
    "\n",
    "## Apply post-processing workflow\n",
    "* Convert from history to timeseries files\n",
    "* Create intake-esm catalog to easily read in data\n",
    "    * ***If you already have CESM model output, you can start after this point***\n",
    "\n",
    "## Run Diagnostics/Analysis\n",
    "* Using various notebooks, read in data, operate on data, cache output\n",
    "* Individual calcualtions could be used here, using packages such as pop-tools\n",
    "\n",
    "## Visualize Output\n",
    "* Output plots to disk\n",
    "* Generate a catalog with the relevant metadata to create a dashboard\n",
    "* Create a dashboard visualizing plots, where the plots are stored on a CGD machine or AWS"
   ]
  }
 ],
 "metadata": {
  "kernelspec": {
   "display_name": "Python 3",
   "language": "python",
   "name": "python3"
  },
  "language_info": {
   "codemirror_mode": {
    "name": "ipython",
    "version": 3
   },
   "file_extension": ".py",
   "mimetype": "text/x-python",
   "name": "python",
   "nbconvert_exporter": "python",
   "pygments_lexer": "ipython3",
   "version": "3.8.3"
  }
 },
 "nbformat": 4,
 "nbformat_minor": 4
}
