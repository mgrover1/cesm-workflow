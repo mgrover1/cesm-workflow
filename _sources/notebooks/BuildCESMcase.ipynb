{
 "cells": [
  {
   "cell_type": "markdown",
   "metadata": {},
   "source": [
    "# Building a CESM Case"
   ]
  },
  {
   "cell_type": "markdown",
   "metadata": {},
   "source": [
    "This will run through building a CESM case, providing documentation from the [official CESM2 site](https://escomp.github.io/CESM/versions/cesm2.1/html/)\n",
    "It is also recommended you look at the [CIME documentation](http://esmci.github.io/cime/versions/master/html/index.html)\n",
    "\n",
    "From that link, you will walk through the following steps:\n",
    "1. Download the CESM2 to the machine you are working on via [Github](http://github.com/ESCOMP/CESM)\n",
    "1. Install external portions using the [instructions](https://escomp.github.io/CESM/versions/cesm2.2/html/downloading_cesm.html)\n",
    "1. Decide on which components/grids to include\n",
    "1. Use the [CESM naming conventions](https://www.cesm.ucar.edu/models/cesm2/naming_conventions.html#casenames) to find the syntax needed to run the components you are using\n",
    "1. Setup your case run\n",
    "1. Build your case\n",
    "1. Run your case"
   ]
  }
 ],
 "metadata": {
  "kernelspec": {
   "display_name": "Python 3",
   "language": "python",
   "name": "python3"
  },
  "language_info": {
   "codemirror_mode": {
    "name": "ipython",
    "version": 3
   },
   "file_extension": ".py",
   "mimetype": "text/x-python",
   "name": "python",
   "nbconvert_exporter": "python",
   "pygments_lexer": "ipython3",
   "version": "3.8.5"
  }
 },
 "nbformat": 4,
 "nbformat_minor": 4
}
